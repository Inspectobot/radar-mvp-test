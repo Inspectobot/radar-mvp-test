{
 "cells": [
  {
   "cell_type": "code",
   "execution_count": 7,
   "id": "7478f697",
   "metadata": {},
   "outputs": [],
   "source": [
    "import numpy as np\n",
    "import scipy\n",
    "from matplotlib import pylab as plt\n",
    "from windfreak import SynthHD\n",
    "%matplotlib inline"
   ]
  },
  {
   "cell_type": "code",
   "execution_count": 8,
   "id": "6c8eac34",
   "metadata": {},
   "outputs": [],
   "source": [
    "synth = SynthHD('/dev/cu.usbmodem206834A04E561')\n",
    "synth.init()\n"
   ]
  },
  {
   "cell_type": "code",
   "execution_count": 9,
   "id": "7a55c751",
   "metadata": {},
   "outputs": [
    {
     "name": "stdout",
     "output_type": "stream",
     "text": [
      "SynthHD v2\n"
     ]
    }
   ],
   "source": [
    "print(synth.model)"
   ]
  },
  {
   "cell_type": "code",
   "execution_count": 11,
   "id": "a2b9633c",
   "metadata": {},
   "outputs": [],
   "source": [
    "# Set channel 0 power and frequency\n",
    "synth[0].power = -10.\n",
    "synth[0].frequency = 1000e6\n",
    "synth[1].power = -10.\n",
    "synth[1].frequency = 50e6\n",
    "\n",
    "\n",
    "\n",
    "# Enable channel 0\n",
    "synth[0].enable = True\n",
    "synth[1].enable = True"
   ]
  },
  {
   "cell_type": "code",
   "execution_count": null,
   "id": "9c746bd5",
   "metadata": {},
   "outputs": [],
   "source": []
  },
  {
   "cell_type": "code",
   "execution_count": 12,
   "id": "a18e9a8b",
   "metadata": {},
   "outputs": [
    {
     "name": "stdout",
     "output_type": "stream",
     "text": [
      "Lock status A= True, Lock status B=True\n"
     ]
    }
   ],
   "source": [
    "lock_status = synth[1].lock_status\n",
    "print(f\"Lock status A= {synth[0].lock_status}, Lock status B={synth[1].lock_status}\")"
   ]
  },
  {
   "cell_type": "code",
   "execution_count": null,
   "id": "1ab9dace",
   "metadata": {},
   "outputs": [],
   "source": [
    "synth.close()"
   ]
  }
 ],
 "metadata": {
  "kernelspec": {
   "display_name": "Python 3 (ipykernel)",
   "language": "python",
   "name": "python3"
  },
  "language_info": {
   "codemirror_mode": {
    "name": "ipython",
    "version": 3
   },
   "file_extension": ".py",
   "mimetype": "text/x-python",
   "name": "python",
   "nbconvert_exporter": "python",
   "pygments_lexer": "ipython3",
   "version": "3.8.10"
  }
 },
 "nbformat": 4,
 "nbformat_minor": 5
}
